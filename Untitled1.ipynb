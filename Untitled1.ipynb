{
 "cells": [
  {
   "cell_type": "code",
   "execution_count": 1,
   "metadata": {},
   "outputs": [],
   "source": [
    "climate_data = [\n",
    " {\"city\": \"city A\", \"temperature\": 25, \"carbon_footprint\": 500},\n",
    " {\"city\": \"city B\", \"temperature\": 30, \"carbon_footprint\": 350},   \n",
    " {\"city\": \"city C\", \"temperature\": 22, \"carbon_footprint\": 600},\n",
    " {\"city\": \"city D\", \"temperature\": 15, \"carbon_footprint\": 200},\n",
    " {\"city\": \"city E\", \"temperature\": 28, \"carbon_footprint\": 450},\n",
    "]   "
   ]
  },
  {
   "cell_type": "code",
   "execution_count": 2,
   "metadata": {},
   "outputs": [],
   "source": [
    "high_temp_thershold = 26\n"
   ]
  },
  {
   "cell_type": "code",
   "execution_count": 3,
   "metadata": {},
   "outputs": [],
   "source": [
    "high_temp_cities = [city for city in climate_data if city [\"temperature\"]>high_temp_thershold]"
   ]
  },
  {
   "cell_type": "code",
   "execution_count": 4,
   "metadata": {},
   "outputs": [
    {
     "name": "stdout",
     "output_type": "stream",
     "text": [
      "cities with high temperature(>26°c):\n",
      "city B - 30°c\n",
      "city E - 28°c\n"
     ]
    }
   ],
   "source": [
    "print(\"cities with high temperature(>26°c):\")\n",
    "for city in high_temp_cities:\n",
    " print(f\"{city['city']} - {city['temperature']}°c\")    "
   ]
  },
  {
   "cell_type": "code",
   "execution_count": 5,
   "metadata": {},
   "outputs": [
    {
     "name": "stdout",
     "output_type": "stream",
     "text": [
      "\n",
      "average carbon footprint: 100.000000 kg co2\n",
      "\n",
      "average carbon footprint: 170.000000 kg co2\n",
      "\n",
      "average carbon footprint: 290.000000 kg co2\n",
      "\n",
      "average carbon footprint: 330.000000 kg co2\n",
      "\n",
      "average carbon footprint: 420.000000 kg co2\n"
     ]
    }
   ],
   "source": [
    "total_carbon = 0\n",
    "for city in climate_data:\n",
    " total_carbon += city[\"carbon_footprint\"]\n",
    " average_carbon_footprint = total_carbon / len(climate_data)\n",
    " print(f\"\\naverage carbon footprint: {average_carbon_footprint:2f} kg co2\")   "
   ]
  },
  {
   "cell_type": "code",
   "execution_count": 6,
   "metadata": {},
   "outputs": [
    {
     "name": "stdout",
     "output_type": "stream",
     "text": [
      "\n",
      " sustainable cities (carbon footprint < 400 kg co2):\n",
      "city B - 350 kg co2\n",
      "city D - 200 kg co2\n"
     ]
    }
   ],
   "source": [
    "sustainability_thershold = 400\n",
    "sustainable_cities = list(filter(lambda city: city[\"carbon_footprint\"]<sustainability_thershold, climate_data))\n",
    "print(\"\\n sustainable cities (carbon footprint < 400 kg co2):\")\n",
    "for city in sustainable_cities:\n",
    "    print(f\"{city['city']} - {city['carbon_footprint']} kg co2\")"
   ]
  },
  {
   "cell_type": "code",
   "execution_count": 7,
   "metadata": {},
   "outputs": [
    {
     "name": "stdout",
     "output_type": "stream",
     "text": [
      "\n",
      "city with the highest carbon footprint: \n",
      "highest_footprint_city['city']) - 600 kg co2\n"
     ]
    }
   ],
   "source": [
    "#use max() to find the city with the highest carbon footprint\n",
    "highest_footprint_city = max(climate_data, key=lambda\n",
    "                             city: city[\"carbon_footprint\"])\n",
    "print(f\"\\ncity with the highest carbon footprint: \")\n",
    "print(f\"highest_footprint_city['city']) - {highest_footprint_city['carbon_footprint']} kg co2\")"
   ]
  },
  {
   "cell_type": "code",
   "execution_count": 9,
   "metadata": {},
   "outputs": [],
   "source": [
    "def calculate_carbon_footprint(energy_consumption, emission_factor):\n",
    "    \"\"\"\n",
    "    This function calculates the carbon footprint based on energy consumption \n",
    "    (in kilowatt-hours) and the emisslon factor (in kg Co2 per kwh).\n",
    "    \"\"\"\n",
    "    return energy_consumption * emisslon_factor"
   ]
  },
  {
   "cell_type": "code",
   "execution_count": null,
   "metadata": {},
   "outputs": [],
   "source": []
  }
 ],
 "metadata": {
  "kernelspec": {
   "display_name": "Python 3",
   "language": "python",
   "name": "python3"
  },
  "language_info": {
   "codemirror_mode": {
    "name": "ipython",
    "version": 3
   },
   "file_extension": ".py",
   "mimetype": "text/x-python",
   "name": "python",
   "nbconvert_exporter": "python",
   "pygments_lexer": "ipython3",
   "version": "3.7.3"
  }
 },
 "nbformat": 4,
 "nbformat_minor": 2
}
