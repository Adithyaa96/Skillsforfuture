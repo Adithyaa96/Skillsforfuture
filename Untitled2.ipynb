{
 "cells": [
  {
   "cell_type": "code",
   "execution_count": 5,
   "metadata": {},
   "outputs": [],
   "source": [
    "def calculate_carbon_footprint(energy_consumption, emission_factor):\n",
    "    \"\"\"\n",
    "    This function calculates the carbon footprint based on energy consumption \n",
    "    (in kilowatt-hours) and the emission factor (in kg Co2 per kwh).\n",
    "    \"\"\"\n",
    "    return energy_consumption * emission_factor"
   ]
  },
  {
   "cell_type": "code",
   "execution_count": 6,
   "metadata": {},
   "outputs": [
    {
     "name": "stdout",
     "output_type": "stream",
     "text": [
      "Carbon Footprint:475.0 kg Co2\n"
     ]
    }
   ],
   "source": [
    "#Example usage:\n",
    "energy_consumption = 1000 # in kkh\n",
    "emission_factor = 0.475  # kg co2 per kiwh\n",
    "carbon_footprint = calculate_carbon_footprint(energy_consumption, emission_factor)\n",
    "print(f\"Carbon Footprint:{carbon_footprint} kg Co2\")\n",
    "#This will calculate and print the carbon footprint for the given energy consume"
   ]
  },
  {
   "cell_type": "code",
   "execution_count": 4,
   "metadata": {},
   "outputs": [
    {
     "name": "stdout",
     "output_type": "stream",
     "text": [
      "Requirement already satisfied: pandas in c:\\programdata\\anaconda3\\lib\\site-packages (0.24.2)\n",
      "Requirement already satisfied: numpy in c:\\programdata\\anaconda3\\lib\\site-packages (1.16.4)\n",
      "Requirement already satisfied: python-dateutil>=2.5.0 in c:\\programdata\\anaconda3\\lib\\site-packages (from pandas) (2.8.0)\n",
      "Requirement already satisfied: pytz>=2011k in c:\\programdata\\anaconda3\\lib\\site-packages (from pandas) (2019.1)\n",
      "Requirement already satisfied: six>=1.5 in c:\\programdata\\anaconda3\\lib\\site-packages (from python-dateutil>=2.5.0->pandas) (1.12.0)\n",
      "Note: you may need to restart the kernel to use updated packages.\n"
     ]
    }
   ],
   "source": [
    "pip install pandas numpy\n"
   ]
  },
  {
   "cell_type": "code",
   "execution_count": 5,
   "metadata": {},
   "outputs": [],
   "source": [
    "import pandas as pd\n",
    "renewable_sources = [\"solar\", \"wind\", \"hydropower\", \"geothermal\", \"biomass\"]\n",
    "data ={\n",
    "    \"project\": [\"solar farm A\", \"wind turbine X\", \"hydropower Y\",\n",
    "                \"solar roof Z\", \"geothermal plant p\"], \n",
    "    \"technology\": [\"solr\", \"wind\", \"hydropower\", \"solar\", \"geothermal\"],\n",
    "    \"capacity (MW)\": [150,300,200,50,100],\n",
    "    \"cost (million $)\": [200,400,350, 100, 250],\n",
    "    \"location\": [\"california\", \"texas\", \"washington\", \"nevada\", \"idaho\"],\n",
    "    \"completion year\": [2023, 2024, 2022, 2025, 2023]\n",
    "}    "
   ]
  },
  {
   "cell_type": "code",
   "execution_count": 7,
   "metadata": {},
   "outputs": [
    {
     "name": "stdout",
     "output_type": "stream",
     "text": [
      "renewable energy sources:\n",
      "0         solar\n",
      "1          wind\n",
      "2    hydropower\n",
      "3    geothermal\n",
      "4       biomass\n",
      "dtype: object\n"
     ]
    }
   ],
   "source": [
    "renewable_series = pd.Series(renewable_sources)\n",
    "print(\"renewable energy sources:\")\n",
    "print(renewable_series)"
   ]
  },
  {
   "cell_type": "code",
   "execution_count": 9,
   "metadata": {},
   "outputs": [
    {
     "name": "stdout",
     "output_type": "stream",
     "text": [
      "\n",
      "green technology projects Dataframe:\n",
      "              project  technology  capacity (MW)  cost (million $)  \\\n",
      "0        solar farm A        solr            150               200   \n",
      "1      wind turbine X        wind            300               400   \n",
      "2        hydropower Y  hydropower            200               350   \n",
      "3        solar roof Z       solar             50               100   \n",
      "4  geothermal plant p  geothermal            100               250   \n",
      "\n",
      "     location  completion year  \n",
      "0  california             2023  \n",
      "1       texas             2024  \n",
      "2  washington             2022  \n",
      "3      nevada             2025  \n",
      "4       idaho             2023  \n"
     ]
    }
   ],
   "source": [
    "projects_df = pd.DataFrame(data)\n",
    "print(\"\\ngreen technology projects Dataframe:\")\n",
    "print(projects_df)"
   ]
  },
  {
   "cell_type": "code",
   "execution_count": 10,
   "metadata": {},
   "outputs": [
    {
     "name": "stdout",
     "output_type": "stream",
     "text": [
      "\n",
      "list of projects:\n",
      "0          solar farm A\n",
      "1        wind turbine X\n",
      "2          hydropower Y\n",
      "3          solar roof Z\n",
      "4    geothermal plant p\n",
      "Name: project, dtype: object\n"
     ]
    }
   ],
   "source": [
    "print(\"\\nlist of projects:\")\n",
    "print(projects_df[\"project\"])"
   ]
  },
  {
   "cell_type": "code",
   "execution_count": 11,
   "metadata": {},
   "outputs": [
    {
     "name": "stdout",
     "output_type": "stream",
     "text": [
      "\n",
      "List of Capacity (MW):\n",
      "0    150\n",
      "1    300\n",
      "2    200\n",
      "3     50\n",
      "4    100\n",
      "Name: capacity (MW), dtype: int64\n"
     ]
    }
   ],
   "source": [
    "print(\"\\nList of Capacity (MW):\")\n",
    "print(projects_df[\"capacity (MW)\"])"
   ]
  },
  {
   "cell_type": "code",
   "execution_count": 13,
   "metadata": {},
   "outputs": [
    {
     "name": "stdout",
     "output_type": "stream",
     "text": [
      "in Projects with Capacity Greater than 100 Mw: \n",
      "          project  technology  capacity (MW)  cost (million $)    location  \\\n",
      "0    solar farm A        solr            150               200  california   \n",
      "1  wind turbine X        wind            300               400       texas   \n",
      "2    hydropower Y  hydropower            200               350  washington   \n",
      "\n",
      "   completion year  \n",
      "0             2023  \n",
      "1             2024  \n",
      "2             2022  \n"
     ]
    }
   ],
   "source": [
    "high_capacity_projects = projects_df[projects_df[\"capacity (MW)\"]>100] \n",
    "print(\"in Projects with Capacity Greater than 100 Mw: \")\n",
    "print(high_capacity_projects)"
   ]
  },
  {
   "cell_type": "code",
   "execution_count": 19,
   "metadata": {},
   "outputs": [
    {
     "name": "stdout",
     "output_type": "stream",
     "text": [
      "\n",
      " DataFrame with cost Per MW: \n",
      "              project  technology  capacity (MW)  cost (million $)  \\\n",
      "0        solar farm A        solr            150               200   \n",
      "1      wind turbine X        wind            300               400   \n",
      "2        hydropower Y  hydropower            200               350   \n",
      "3        solar roof Z       solar             50               100   \n",
      "4  geothermal plant p  geothermal            100               250   \n",
      "\n",
      "     location  completion year  cost per MW  \n",
      "0  california             2023     1.333333  \n",
      "1       texas             2024     1.333333  \n",
      "2  washington             2022     1.750000  \n",
      "3      nevada             2025     2.000000  \n",
      "4       idaho             2023     2.500000  \n"
     ]
    }
   ],
   "source": [
    "projects_df[\"cost per MW\"] = projects_df[\"cost (million $)\"] / projects_df[\"capacity (MW)\"]\n",
    "print(\"\\n DataFrame with cost Per MW: \")\n",
    "print(projects_df)                                                                          "
   ]
  },
  {
   "cell_type": "code",
   "execution_count": 20,
   "metadata": {},
   "outputs": [
    {
     "name": "stdout",
     "output_type": "stream",
     "text": [
      "\n",
      "Total capacity of all projects: 800 MW\n",
      "Total Cost of all projects: $1300 million\n"
     ]
    }
   ],
   "source": [
    "total_capacity = projects_df [\"capacity (MW)\"].sum()\n",
    "total_cost = projects_df[\"cost (million $)\"].sum()\n",
    "print(f\"\\nTotal capacity of all projects: {total_capacity} MW\")\n",
    "print(f\"Total Cost of all projects: ${total_cost} million\")"
   ]
  },
  {
   "cell_type": "code",
   "execution_count": 23,
   "metadata": {},
   "outputs": [
    {
     "name": "stdout",
     "output_type": "stream",
     "text": [
      "\n",
      " Total Capacity by Technology:\n",
      "technology\n",
      "geothermal    100\n",
      "hydropower    200\n",
      "solar          50\n",
      "solr          150\n",
      "wind          300\n",
      "Name: capacity (MW), dtype: int64\n"
     ]
    }
   ],
   "source": [
    "grouped_data = projects_df.groupby(\"technology\")[\"capacity (MW)\"].sum()\n",
    "print(\"\\n Total Capacity by Technology:\")\n",
    "print(grouped_data)"
   ]
  },
  {
   "cell_type": "code",
   "execution_count": null,
   "metadata": {},
   "outputs": [],
   "source": []
  }
 ],
 "metadata": {
  "kernelspec": {
   "display_name": "Python 3",
   "language": "python",
   "name": "python3"
  },
  "language_info": {
   "codemirror_mode": {
    "name": "ipython",
    "version": 3
   },
   "file_extension": ".py",
   "mimetype": "text/x-python",
   "name": "python",
   "nbconvert_exporter": "python",
   "pygments_lexer": "ipython3",
   "version": "3.7.3"
  }
 },
 "nbformat": 4,
 "nbformat_minor": 2
}
